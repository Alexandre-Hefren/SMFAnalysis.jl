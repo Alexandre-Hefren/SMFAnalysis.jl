{
 "cells": [
  {
   "cell_type": "code",
   "execution_count": null,
   "id": "7dcf3825-448b-4966-aa68-85d730841031",
   "metadata": {
    "tags": []
   },
   "outputs": [],
   "source": [
    "include(\"../src/project.jl\")"
   ]
  },
  {
   "cell_type": "code",
   "execution_count": null,
   "id": "a7cbfde3",
   "metadata": {},
   "outputs": [],
   "source": [
    "using Pkg"
   ]
  },
  {
   "cell_type": "code",
   "execution_count": null,
   "id": "f53be444",
   "metadata": {},
   "outputs": [],
   "source": [
    "import Pkg\n",
    "Pkg.add(\"LanguageServer\")"
   ]
  },
  {
   "cell_type": "code",
   "execution_count": null,
   "id": "e93f4ca2",
   "metadata": {},
   "outputs": [],
   "source": [
    "Pkg.add(\"StatsBase\")"
   ]
  },
  {
   "cell_type": "code",
   "execution_count": null,
   "id": "9bafefaa-3c97-4088-abde-defaa8614fd4",
   "metadata": {},
   "outputs": [],
   "source": [
    "### definition of PosMatrix type\n",
    "\n",
    "# struct PosMatrixCompressed{T, V, W}\n",
    "#     name::String\n",
    "#     modifications::Dict{String, Int}\n",
    "#     nummods::Int\n",
    "#     modfields::Int\n",
    "#     numreads::Int\n",
    "#     readfields::Int\n",
    "#     chromindex::Dict{String, UnitRange{Int}}\n",
    "#     chromrindex::Dict{Int, String}\n",
    "#     readindex::V\n",
    "#     readivs::IntervalCollection{W}\n",
    "#     dataencoding::DataType\n",
    "#     PM::T\n",
    "# end"
   ]
  },
  {
   "cell_type": "code",
   "execution_count": null,
   "id": "f63a9b8b",
   "metadata": {
    "tags": []
   },
   "outputs": [],
   "source": [
    "PMS = load_smf_data(\"/Users/alexandrehefrenh2/University of Exeter/Gene Regulatory Defects in Disease - Documents/data/ont/posmatrix/\")"
   ]
  },
  {
   "cell_type": "code",
   "execution_count": null,
   "id": "cd517281",
   "metadata": {},
   "outputs": [],
   "source": [
    "typeof(PMS[1])"
   ]
  },
  {
   "cell_type": "code",
   "execution_count": null,
   "id": "3264e4f1-efa1-4aab-9588-2e7ec94e64e7",
   "metadata": {
    "tags": []
   },
   "outputs": [],
   "source": [
    "prod(size(PMS[1].readindex))*sizeof(Int64)/1024/1024 # prod is the product of all elements in the array \n",
    "# the output is the size of the readindex in MB"
   ]
  },
  {
   "cell_type": "code",
   "execution_count": null,
   "id": "4b547f76-e9ec-4c5b-8f62-dbba78d527ac",
   "metadata": {
    "tags": []
   },
   "outputs": [],
   "source": [
    "prod(size(PMS[1].PM))*sizeof(UInt8)/1024/1024"
   ]
  },
  {
   "cell_type": "code",
   "execution_count": null,
   "id": "6c2549a8-c7b1-4b56-9dd3-ef0d8aec5786",
   "metadata": {
    "tags": []
   },
   "outputs": [],
   "source": [
    "size(PMS[1].readindex)"
   ]
  },
  {
   "cell_type": "code",
   "execution_count": null,
   "id": "f8352562",
   "metadata": {},
   "outputs": [],
   "source": [
    "PMS[1].name"
   ]
  },
  {
   "cell_type": "code",
   "execution_count": null,
   "id": "6f1b745c",
   "metadata": {},
   "outputs": [],
   "source": [
    "#  how access first 10 reads of PMS[1].PM matrix\n",
    "PMS[1].PM[1:10, :]"
   ]
  },
  {
   "cell_type": "code",
   "execution_count": null,
   "id": "1c3ddfec",
   "metadata": {},
   "outputs": [],
   "source": [
    "typeof(PMS[1].readindex) # is a 2d array"
   ]
  },
  {
   "cell_type": "code",
   "execution_count": null,
   "id": "c669679c-aed3-4e53-9354-4373a514092d",
   "metadata": {
    "tags": []
   },
   "outputs": [],
   "source": [
    "PMS[1].readindex .+ 1"
   ]
  },
  {
   "cell_type": "code",
   "execution_count": null,
   "id": "34225aae",
   "metadata": {},
   "outputs": [],
   "source": [
    "PMS[1].readindex[:, 1:10]"
   ]
  },
  {
   "cell_type": "code",
   "execution_count": null,
   "id": "76c0a494",
   "metadata": {},
   "outputs": [],
   "source": [
    "PMS[1].readindex[:, 1:10]'\n",
    "# transpose needed because data is stored in column order in PosMatrix"
   ]
  },
  {
   "cell_type": "code",
   "execution_count": null,
   "id": "a67e500d",
   "metadata": {},
   "outputs": [],
   "source": [
    "#  PMS[1]: file PosMatrixCompressed\n",
    "# PMS[1].readindex: matrix of position readings \n",
    "# PMS[1].PM: matrix of genomic psoitions and methylation probabilities"
   ]
  },
  {
   "cell_type": "code",
   "execution_count": null,
   "id": "ded0e3b7-a33c-4447-9e5f-e00f75714d44",
   "metadata": {
    "tags": []
   },
   "outputs": [],
   "source": [
    "readdf = DataFrame(PMS[1].readindex[:, 1:10]', [:chromstrand, :genomestart, :genomestop, :mod_6mA_start, :mod_6mA_stop, :mod_5mC_start, :mod_5mC_stop])\n",
    "readdf.chrom = getindex.(Ref(PMS[1].chromrindex), last.(GenomeFragments.get_strand_chrom_enc.(readdf.chromstrand)))\n",
    "readdf.strand = first.(GenomeFragments.get_strand_chrom_enc.(readdf.chromstrand))\n",
    "readdf # DataFrame with first 10 reads and 9 columns"
   ]
  },
  {
   "cell_type": "code",
   "execution_count": null,
   "id": "becd8e1d",
   "metadata": {},
   "outputs": [],
   "source": [
    "PMS[1].modifications"
   ]
  },
  {
   "cell_type": "code",
   "execution_count": null,
   "id": "ef11ac03",
   "metadata": {},
   "outputs": [],
   "source": [
    "PMS[1].modifications[\"6mA\"]"
   ]
  },
  {
   "cell_type": "code",
   "execution_count": null,
   "id": "98e27f8c",
   "metadata": {},
   "outputs": [],
   "source": [
    "PMS[1].readindex\n",
    "# PM.readindex[rind[1], readindex]:PM.readindex[rind[2], readindex]"
   ]
  },
  {
   "cell_type": "code",
   "execution_count": null,
   "id": "b4b253ca",
   "metadata": {},
   "outputs": [],
   "source": [
    "PMS[1].readindex[:, 1] \n",
    "\n",
    "# note first 6mA modification occurs at 1 and goes to 123\n",
    "#  from 124 to 1064 are 5mA modifications"
   ]
  },
  {
   "cell_type": "code",
   "execution_count": null,
   "id": "59cad812",
   "metadata": {},
   "outputs": [],
   "source": [
    "println(PMS[1].readindex[4, 1] )\n",
    "println(PMS[1].readindex[5, 1] )"
   ]
  },
  {
   "cell_type": "code",
   "execution_count": null,
   "id": "906d5666",
   "metadata": {},
   "outputs": [],
   "source": [
    "# Assuming rind and readindex are defined and accessible\n",
    "start_index = PMS[1].readindex[4, 1]\n",
    "end_index = PMS[1].readindex[5, 1]\n",
    "\n",
    "# Print the indices being accessed\n",
    "println(\"Accessing indices from: \", start_index, \" to \", end_index)"
   ]
  },
  {
   "cell_type": "code",
   "execution_count": null,
   "id": "3ea61bd6",
   "metadata": {},
   "outputs": [],
   "source": [
    "PMS[1].readindex[:, 2]\n",
    "\n",
    "# second read has 6mA modification from 1065 to 1464\n",
    "# 5mA modification from 1465 to 2656"
   ]
  },
  {
   "cell_type": "code",
   "execution_count": null,
   "id": "7bb9aac4",
   "metadata": {},
   "outputs": [],
   "source": [
    "PMS[1].readindex[:, 3]\n",
    "# 3rd read has 6mA modification from 2654 to 3052\n",
    "# 5mA modification from 3053 to 4430"
   ]
  },
  {
   "cell_type": "code",
   "execution_count": null,
   "id": "35939daa-5be2-47a4-bb02-661c88fdf1c8",
   "metadata": {
    "tags": []
   },
   "outputs": [],
   "source": [
    "function get_mod_data(readindex, modification, PM) #PM is a PosMatrixCompressed object, ex: PMS[1]\n",
    "    mi = PM.modifications[modification]\n",
    "    off = (mi - 1)*2\n",
    "    rind = off .+ 3 .+ (1:2)\n",
    "    pind = PM.readindex[rind[1], readindex]:PM.readindex[rind[2], readindex]\n",
    "    d = decompress(Int32, PM.PM[pind])\n",
    "    reshape(d, 2, div(length(d), 2))\n",
    "end"
   ]
  },
  {
   "cell_type": "code",
   "execution_count": null,
   "id": "d8819403",
   "metadata": {},
   "outputs": [],
   "source": [
    "# Adjusted function\n",
    "function get_mod_data(read_value, modification, PM) #PM is a PosMatrixCompressed object, ex: PMS[1]\n",
    "    mi = PM.modifications[modification] # Get the modification index\n",
    "    off = (mi - 1)*2  #multiplying by 2: `off` points to the correct pair of columns for the specified modification.\n",
    "    rind = off .+ 3 .+ (1:2) # Calculate row indices for start and stop positions. (1:2) because two values are needed\n",
    "                             #   +3 to skip the first three columns: chromstrand, genomestart, genomestop\n",
    "    pind = PM.readindex[rind[1], read_value]:PM.readindex[rind[2], read_value] #start/stop positions of a modification on a specific read\n",
    "    d = decompress(Int32, PM.PM[pind])\n",
    "    reshape(d, 2, div(length(d), 2))\n",
    "end\n",
    "\n",
    "# Adding (1:2): This creates a pair of consecutive indices. \n",
    "# The result of off + 3 gives a base index, and adding (1:2) (which is [1, 2]) provides \n",
    "# the two indices that are used to index into the readindex array."
   ]
  },
  {
   "cell_type": "code",
   "execution_count": null,
   "id": "69241472",
   "metadata": {},
   "outputs": [],
   "source": [
    "# Modified dataframe to include all columns from PMS[1].readindex\n",
    "read_df = DataFrame(PMS[1].readindex', [:chromstrand, :genomestart, :genomestop, :mod_6mA_start, :mod_6mA_stop, :mod_5mC_start, :mod_5mC_stop])\n",
    "\n",
    "# Assuming the rest of the code remains the same for adding 'chrom' and 'strand' columns\n",
    "read_df.chrom = getindex.(Ref(PMS[1].chromrindex), last.(GenomeFragments.get_strand_chrom_enc.(read_df.chromstrand)))\n",
    "read_df.strand = first.(GenomeFragments.get_strand_chrom_enc.(read_df.chromstrand))\n",
    "\n",
    "# Display the DataFrame\n",
    "read_df # DataFrame with all reads and their respective columns\n",
    "\n",
    "# Accessing mod_6mA_start and mod_6mA_stop from readdf for the first row as an example\n",
    "mod_6mA_start_value = read_df.mod_6mA_start[1]\n",
    "mod_6mA_stop_value = read_df.mod_6mA_stop[1]\n",
    "\n",
    "# Use these variables as needed\n",
    "println(\"mod_6mA_start for the first read is: \", mod_6mA_start_value)\n",
    "println(\"mod_6mA_stop for the first read is: \", mod_6mA_stop_value)"
   ]
  },
  {
   "cell_type": "markdown",
   "id": "ee5ffc0c",
   "metadata": {},
   "source": []
  },
  {
   "cell_type": "code",
   "execution_count": null,
   "id": "d38ba3cf",
   "metadata": {},
   "outputs": [],
   "source": [
    "# head of the read_df\n",
    "read_df[1:22, :]"
   ]
  },
  {
   "cell_type": "code",
   "execution_count": null,
   "id": "a7fa2b13",
   "metadata": {},
   "outputs": [],
   "source": [
    "modification_name = \"6mA\"\n",
    "modification_start_col = \"mod_$(modification_name)_start\"\n",
    "read_df[1:5, Symbol(modification_start_col)]\n",
    "\n",
    "# equivalent in python is read_df.loc[1, f\"mod_{modification_name}_start\"]"
   ]
  },
  {
   "cell_type": "code",
   "execution_count": null,
   "id": "815f5803",
   "metadata": {},
   "outputs": [],
   "source": [
    "# To work with dataframe \n",
    "\n",
    "function get_mod_datadf(read_index, modification_name, file)\n",
    "    # Dynamically construct column names for start and stop positions\n",
    "    modification_start_col = \"mod_\" * modification_name * \"_start\"\n",
    "    modification_stop_col = \"mod_\" * modification_name * \"_stop\"\n",
    "\n",
    "    # Extract start and stop positions from the DataFrame for the specified read\n",
    "    start_pos = read_df[read_index, Symbol(modification_start_col)]\n",
    "    stop_pos = read_df[read_index, Symbol(modification_stop_col)]\n",
    "\n",
    "    # Decompress data between start and stop positions\n",
    "    d = decompress(Int32, file.PM[start_pos:stop_pos])\n",
    "\n",
    "    # Reshape the decompressed data into a 2-array format\n",
    "    reshaped_data = reshape(d, 2, div(length(d), 2))\n",
    "\n",
    "    \n",
    "\n",
    "    return reshape(d, 2, div(length(d), 2)) \n",
    "end\n",
    "\n",
    "\n",
    "# Example \n",
    "\n",
    "# print each row of the data on a separate line\n",
    "function print_mod_data(read_index, modification_name, PM)\n",
    "    mod_data = get_mod_datadf(read_index, modification_name, PM)\n",
    "    for row in eachrow(mod_data)\n",
    "        println(row)\n",
    "    end\n",
    "end\n",
    "\n",
    "# To get and print the 6mA modification data for the first read\n",
    "print_mod_data(1, \"6mA\", PMS[1])\n",
    "# To get and print the 6mA modification data for the second read\n",
    "print_mod_data(2, \"6mA\", PMS[1])\n",
    "# To get and print the 5mC modification data for the first read\n",
    "print_mod_data(1, \"5mC\", PMS[1])\n",
    "\n"
   ]
  },
  {
   "cell_type": "markdown",
   "id": "7917938d",
   "metadata": {},
   "source": [
    "get_mod_datadf(5, \"6mA\", PMS[1])"
   ]
  },
  {
   "cell_type": "code",
   "execution_count": null,
   "id": "9bce0f7b",
   "metadata": {},
   "outputs": [],
   "source": [
    "# Convert the reshaped data into a DataFrame\n",
    "firstreading_df = DataFrame((get_mod_datadf(1, \"6mA\", PMS[1]))', [:Position, :Modification_Probability])\n",
    "\n",
    "\n",
    "# Get the first 5 rows of the DataFrame\n",
    "head_df = first(firstreading_df, 5)\n",
    "\n",
    "# Get the last 5 rows of the DataFrame\n",
    "# tail_df = last(reading_df, 5)"
   ]
  },
  {
   "cell_type": "code",
   "execution_count": null,
   "id": "bba69b8b",
   "metadata": {},
   "outputs": [],
   "source": [
    "# # All reads Dataframe\n",
    "# using DataFrames\n",
    "\n",
    "# # Initialize an array to store the data for all readings\n",
    "# all_readings_data = []\n",
    "\n",
    "# # Total number of readings\n",
    "# N = size(PMS[1].readindex, 2)\n",
    "\n",
    "# for i in 1:N\n",
    "#     # Retrieve data for the current reading\n",
    "#     current_data = get_mod_datadf(i, \"6mA\", PMS[1])\n",
    "    \n",
    "#     # Convert the data into a DataFrame format (or keep as an array of tuples)\n",
    "#     current_df_data = [(pos, prob) for (pos, prob) in zip(current_data[1, :], current_data[2, :])]\n",
    "    \n",
    "#     # Append the current data to the all_readings_data array\n",
    "#     append!(all_readings_data, current_df_data)\n",
    "# end\n",
    "\n",
    "# # Convert the collected data into a DataFrame in one go\n",
    "# all_readings_df = DataFrame(all_readings_data, [:Position, :Modification_Probability])\n",
    "\n",
    "# all_readings_df\n",
    "# # Now, all_readings_df contains data from all readings"
   ]
  },
  {
   "cell_type": "code",
   "execution_count": null,
   "id": "38206de2",
   "metadata": {},
   "outputs": [],
   "source": [
    "# # Plot the histogram for the Modification_Probability column\n",
    "# histogram(all_readings_df.Modification_Probability, bins=257, xlabel=\"Modification Probability\", ylabel=\"Frequency\", title=\"Histogram of Modification Probabilities\")"
   ]
  },
  {
   "cell_type": "code",
   "execution_count": null,
   "id": "2fee6914",
   "metadata": {},
   "outputs": [],
   "source": [
    "## All reads Dataframe\n",
    "\n",
    "# # Pre-allocate an array \n",
    "# all_readings = Vector{Vector{Tuple{Int32, Int32}}}(undef, N)\n",
    "\n",
    "# # Total number of readings\n",
    "# N = size(PMS[1].readindex, 2)\n",
    "\n",
    "# for i in 1:N\n",
    "#     current_data = get_mod_datadf(i, \"6mA\", PMS[1])\n",
    "#     current_df_data = [(pos, prob) for (pos, prob) in zip(current_data[1, :], current_data[2, :])]\n",
    "#     all_readings[i] = current_df_data\n",
    "# end\n",
    "\n",
    "\n",
    "# # Flatten the vector of vectors of tuples into a single vector of tuples\n",
    "# flattened_readings = reduce(vcat, all_readings)\n",
    "\n",
    "# # Convert the flattened vector of tuples into a DataFrame\n",
    "# all_readings_df2 = DataFrame(flattened_readings, [:Position, :Modification_Probability])\n",
    "\n",
    "# all_readings_df2"
   ]
  },
  {
   "cell_type": "markdown",
   "id": "1229720e",
   "metadata": {},
   "source": []
  },
  {
   "cell_type": "code",
   "execution_count": null,
   "id": "a3bde1eb",
   "metadata": {},
   "outputs": [],
   "source": [
    "function get_mod_datadf2(read_index, start_col_name, df, file)\n",
    "    # Find the index of the start column\n",
    "    # if start_col_name ∉ names(df)\n",
    "    #     error(\"Column name '$start_col_name' not found in DataFrame.\")\n",
    "    # end\n",
    "    start_col_index = findfirst(isequal(start_col_name), names(df)) # findfirst return the index of the first element satisfying condition\n",
    "\n",
    "\n",
    "    # Assume the stop column is the next column in the DataFrame\n",
    "    stop_col_index = start_col_index + 1\n",
    "\n",
    "    # Retrieve the actual column names from their indices\n",
    "    start_pos_col = names(df)[start_col_index]\n",
    "    stop_pos_col = names(df)[stop_col_index]\n",
    "\n",
    "    # Extract start and stop positions from the DataFrame for the specified read\n",
    "    start_pos = df[read_index, start_pos_col]\n",
    "    stop_pos = df[read_index, stop_pos_col]\n",
    "\n",
    "    # Decompress data between start and stop positions\n",
    "    d = decompress(Int32, file.PM[start_pos:stop_pos])\n",
    "\n",
    "    # Reshape the decompressed data into a 2-array format\n",
    "    return reshape(d, 2, div(length(d), 2))\n",
    "end\n",
    "\n",
    "# Assuming print_mod_data is defined correctly elsewhere and PMS[1] is the correct DataFrame\n",
    "get_mod_datadf2(1, \"mod_6mA_start\", read_df, PMS[1])"
   ]
  },
  {
   "cell_type": "code",
   "execution_count": null,
   "id": "369c267b",
   "metadata": {},
   "outputs": [],
   "source": [
    "get_mod_datadf(1, \"6mA\", PMS[1])"
   ]
  },
  {
   "cell_type": "code",
   "execution_count": null,
   "id": "413652e6-e77b-4553-a817-eab86e2a3e72",
   "metadata": {
    "tags": []
   },
   "outputs": [],
   "source": [
    "data_6mA = get_mod_data(1, \"6mA\", PMS[1])"
   ]
  },
  {
   "cell_type": "code",
   "execution_count": null,
   "id": "2784fbda",
   "metadata": {},
   "outputs": [],
   "source": [
    "data_6mA = get_mod_data(2, \"6mA\", PMS[1])"
   ]
  },
  {
   "cell_type": "code",
   "execution_count": null,
   "id": "2c8324ef-d8cf-41d4-825f-41f7f16d91db",
   "metadata": {
    "tags": []
   },
   "outputs": [],
   "source": [
    "data_5mC = get_mod_data(1, \"5mC\", PMS[1])"
   ]
  },
  {
   "cell_type": "code",
   "execution_count": null,
   "id": "1687e306-14e7-422c-ab09-f22e1e559915",
   "metadata": {
    "tags": []
   },
   "outputs": [],
   "source": [
    "# Scatter plot of the 6mA and 5mC modification data\n",
    "plot()\n",
    "scatter!(data_6mA[1, :], data_6mA[2, :]./256, lab=\"6mA\")\n",
    "scatter!(data_5mC[1, :], data_5mC[2, :]./256, lab=\"5mC\")\n"
   ]
  },
  {
   "cell_type": "code",
   "execution_count": null,
   "id": "f15a0ebc-8c25-4fd8-ac8d-19bffd770a85",
   "metadata": {
    "tags": []
   },
   "outputs": [],
   "source": [
    "## first row is genomic position\n",
    "## second row is the probability that the sequencer assigned to base being modified\n",
    "\n",
    "data_6ma = reshape(decompress(Int32, PMS[1].PM[1:123]), 2, 30)"
   ]
  },
  {
   "cell_type": "code",
   "execution_count": null,
   "id": "38d45c04",
   "metadata": {},
   "outputs": [],
   "source": [
    "# values become probability after divinding by 256\n",
    "data_6ma[2, 1] / 256"
   ]
  },
  {
   "cell_type": "code",
   "execution_count": null,
   "id": "7c37bf72-2686-41d1-a269-54713ab7f2e4",
   "metadata": {
    "tags": []
   },
   "outputs": [],
   "source": [
    "bar(data_6ma[1, :], data_6ma[2, :]./256)"
   ]
  },
  {
   "cell_type": "markdown",
   "id": "42c65f92",
   "metadata": {},
   "source": [
    "### Histogram "
   ]
  },
  {
   "cell_type": "markdown",
   "id": "904e2973",
   "metadata": {},
   "source": [
    "To calculate a histogram of the modification probabilities:\n",
    "\n",
    "1. Iterate over each read in the PM object\n",
    "2. For each read, use the get_mod_datadf function to get the modification data on the second row\n",
    "3. Extract the second row of the matrix returned by get_mod_datadf, which contains the modification probabilities\n",
    "\n",
    "5. Update the histogram count\n",
    "4. Normalise histogram by dividing  each bin's count by the total count of all bins\n",
    "\n",
    "Note: choose \"raw count\" or `realative frequency` (normalised)"
   ]
  },
  {
   "cell_type": "markdown",
   "id": "703da07b",
   "metadata": {},
   "source": [
    "\n",
    "Recall: Direct binning Vs normalised binning  \n",
    "\n",
    "Direct Binning: If we have integer values strictly between 0 and 256, handling edge cases is generally not needed unless there's a possibility of having exactly 256 due to some data processing.  \n",
    "\n",
    "Normalized Binning: When normalizing values first, we have to handle edge cases correctly to ensure all values are binned properly."
   ]
  },
  {
   "cell_type": "code",
   "execution_count": null,
   "id": "1effa990",
   "metadata": {},
   "outputs": [],
   "source": [
    "\n",
    "function calculate_modification_histogram(file, modification)\n",
    "    # Initialize a histogram with 257 bins (0 to 256 inclusive)\n",
    "    histogram = zeros(Int, 257)\n",
    "    \n",
    "    # Total number of reads is the number of columns in file.readindex\n",
    "    total_reads = size(file.readindex, 2)\n",
    "    \n",
    "    for read_index = 1:total_reads\n",
    "        # Get modification data for the current read\n",
    "        mod_data = get_mod_datadf(read_index, modification, file)\n",
    "        \n",
    "        # Extract the second row (modification probabilities)\n",
    "        mod_probs = mod_data[2, :] \n",
    "        \n",
    "        # # Update the histogram\n",
    "        # for prob in mod_probs  #prob are integers \n",
    "        #     histogram[prob + 1] += 1  # prob +1 because Julia arrays are 1-indexed\n",
    "        # end\n",
    "\n",
    "         # update the histogram using countmap to avoid looping over all values\n",
    "         counts = countmap(mod_probs) # countmap: returns a dictionary with the counts of each unique value\n",
    "         for (prob, count) in counts\n",
    "             histogram[prob + 1] += count   #prob are integers starting from 0\n",
    "         end\n",
    "    end\n",
    "     \n",
    "    # Normalise the histogram\n",
    "    total_counts = sum(histogram)\n",
    "    normalized_histogram = histogram / total_counts\n",
    "    \n",
    "    return histogram , normalized_histogram\n",
    "end\n",
    "\n",
    "hist, norm_hist = calculate_modification_histogram(PMS[1], \"6mA\")\n",
    "println(\"Histogram: \", hist)\n",
    "println(\"Normalized histogram: \", norm_hist)"
   ]
  },
  {
   "cell_type": "code",
   "execution_count": null,
   "id": "cde1e2b0",
   "metadata": {},
   "outputs": [],
   "source": [
    "# If using a different number of bins, such as 30 instead of 257, \n",
    "#  we need to scale the original values (0 to 256) into the specified number of bins\n",
    "\n",
    "function calculate_modification_histogram2(file, modification)\n",
    "    # Initialize a histogram with a different number of bins from the avaialble 257 values\n",
    "    # histogram = zeros(Int, 30) # 30 bins\n",
    "    histogram = fill(0,30)\n",
    "    \n",
    "    # Total number of reads is the number of columns in PM.readindex\n",
    "    total_reads = size(file.readindex, 2)\n",
    "    \n",
    "    for read_index = 1:total_reads\n",
    "        # Get modification data for the current read\n",
    "        mod_data = get_mod_data(read_index, modification, file)\n",
    "        \n",
    "        # Extract the second row (modification probabilities) and normalize\n",
    "        mod_probs = mod_data[2, :] ./ 256 # dividing by 256, resulting in values between 0 and 1.\n",
    "        \n",
    "        # Update the histogram\n",
    "        for prob in mod_probs  # prob ranges from 0 to 1  (not integer values)\n",
    "            # Scale to 0-29 range and round down for bin index\n",
    "            bin_index = if prob == 1.0\n",
    "                30  # If prob is exactly 1, place it in the last bin\n",
    "            else\n",
    "                Int(floor(prob * 30)) + 1  # +1 for 1-indexing\n",
    "            end\n",
    "            \n",
    "            histogram[bin_index] += 1\n",
    "        end\n",
    "    end\n",
    "    \n",
    "    histogram\n",
    "    # normalise the histogram\n",
    "    \n",
    "    total_counts = sum(histogram)\n",
    "    histogram_normalized = histogram / total_counts\n",
    "\n",
    "    return histogram, histogram_normalized\n",
    "end\n",
    "\n",
    "raw_counts, normalised_counts =  calculate_modification_histogram2(PMS[1], \"6mA\")\n",
    "println(\"raw Counts: \", raw_counts)\n",
    "println(\"Normalised counts: \", normalised_counts)"
   ]
  },
  {
   "cell_type": "markdown",
   "id": "48bc6694",
   "metadata": {},
   "source": [
    "For pre-binned data, where we already have the counts for each bin (like normalised_counts), and especially if these counts are normalized, we would need the bin edges to accurately plot the histogram, as the histogram() function won't inherently know how the data was binned.\n",
    "\n",
    "If we want to plot pre-binned data with Plots.jl, we should use a different approach. Since we have normalized counts, we need to plot them against the bin centers or edges directly using a *bar plot* or a *step plot *\n"
   ]
  },
  {
   "cell_type": "code",
   "execution_count": null,
   "id": "3378fe88",
   "metadata": {},
   "outputs": [],
   "source": [
    "using Plots\n",
    "\n",
    "hist, norm_hist = calculate_modification_histogram(PMS[1], \"6mA\")\n",
    "# Bin centres from the edges of the bins\n",
    "bin_edges = range(0, stop=1, length=258)  # 256 bins, thus 258 edges\n",
    "bin_centers = (bin_edges[1:end-1] .+ bin_edges[2:end]) ./ 2\n",
    "\n",
    "# Now plot using bar, since data is already binned and normalised\n",
    "bar(bin_centers, norm_hist, xlabel=\"Modification Probability\", ylabel=\"Frequency\", title=\"Normalised Modification Probabilities\", legend=false, color=:blue)"
   ]
  },
  {
   "cell_type": "code",
   "execution_count": null,
   "id": "613fc81a",
   "metadata": {},
   "outputs": [],
   "source": [
    "# Plot the raw counts histogram for 6mA modification\n",
    "plot(1:257, hist, label=\"6mA\", xlabel=\"Bin\", ylabel=\"Frequency\", title=\"Raw Counts\")"
   ]
  },
  {
   "cell_type": "code",
   "execution_count": null,
   "id": "5a8b1079",
   "metadata": {},
   "outputs": [],
   "source": [
    "# ALTERNATIVELY\n",
    "\n",
    "# Function to create a histogram with a specified number of bins\n",
    "\"\"\"Create a histogram with a specified number of bins for a given modification type.\"\"\"\n",
    "function create_histogram(modification, file, desired_bins)\n",
    "    # Initialize the histogram with the desired number of bins\n",
    "    histogram = zeros(Int, desired_bins)\n",
    "\n",
    "    # Iterate over all reads\n",
    "    for read_index in 1:size(file.readindex, 2)\n",
    "        # Get modification data for the current read\n",
    "        mod_data = get_mod_datadf(read_index, modification, file)\n",
    "\n",
    "        # Extract the second row (modification probabilities)\n",
    "        mod_probs = mod_data[2, :]  # Assume mod_probs are integers\n",
    "\n",
    "        # Rescale probabilities to fit into the desired number of bins\n",
    "        for prob in mod_probs\n",
    "            bin_index = floor(Int, (prob / 256) * (desired_bins - 1)) + 1\n",
    "            histogram[bin_index] += 1\n",
    "        end\n",
    "    end\n",
    "\n",
    "    # Normalize the histogram\n",
    "    total_counts = sum(histogram)\n",
    "    normalized_histogram = histogram / total_counts\n",
    "\n",
    "    return normalized_histogram\n",
    "end\n",
    "\n",
    "# Example\n",
    "hist6ma = create_histogram( \"6mA\", PMS[1], 257)\n",
    "\n",
    "desired_bins = 257\n",
    "# Plot the histogram using the computed data\n",
    "bin_edges = range(0.0, stop=1.0, length=desired_bins + 1)\n",
    "bin_centers = [(bin_edges[i] + bin_edges[i+1]) / 2 for i in 1:length(bin_edges)-1]\n",
    "\n",
    "plot(bin_centers, hist6ma, seriestype=:bar, xlabel=\"Modification Probability\", ylabel=\"Frequency\", title=\"Modification Probability Histogram\", label=\"6mA\", color=:blue)"
   ]
  },
  {
   "cell_type": "markdown",
   "id": "3f45d9a3",
   "metadata": {},
   "source": [
    "Using `fit()` function to fit a distribution to the data"
   ]
  },
  {
   "cell_type": "markdown",
   "id": "9c9b2b7a",
   "metadata": {},
   "source": [
    "The `fit` method from the `StatsBase` package does not normalise the histogram counts by default. It calculates the counts of elements falling into each bin based on the provided data (all_mod_probs) and the bin edges (bin_edges). The result is the raw counts of elements in each bin, thesea re stored into histogram.weights. For normalised histogram, a PDF, the total area (under the histogram) sums up to one"
   ]
  },
  {
   "cell_type": "code",
   "execution_count": null,
   "id": "cec956f7",
   "metadata": {},
   "outputs": [],
   "source": [
    "# Histogram for PDF of \"modification probabilities\" \n",
    "using StatsBase\n",
    "\n",
    "# Dynamic binning\n",
    "function calculate_modification_fithistogram(file, modification)\n",
    "    # Initialize an empty array to collect all modification probabilities\n",
    "    all_mod_probs = Float64[]\n",
    "\n",
    "    # Total number of reads is the number of columns in PM.readindex\n",
    "    total_reads = size(file.readindex, 2)\n",
    "\n",
    "    for read_index = 1:total_reads\n",
    "        # Get modification data for the current read\n",
    "        mod_data = get_mod_datadf(read_index, modification, file)\n",
    "\n",
    "        # Extract the second row (modification probabilities) and append to all_mod_probs\n",
    "        append!(all_mod_probs, mod_data[2, :])\n",
    "    end\n",
    "\n",
    "    # Determine the range for the histogram bins\n",
    "    min_prob = minimum(all_mod_probs)\n",
    "    max_prob = maximum(all_mod_probs)\n",
    "    bin_edges = range(min_prob, max_prob, length=258) # 257 bins means 258 edges\n",
    "    bin_centers = (bin_edges[1:end-1] .+ bin_edges[2:end]) ./ 2  # bin centers\n",
    "\n",
    "\n",
    "    # Create a histogram with 10 bins (dynamic binning)\n",
    "    histogram = fit(Histogram, all_mod_probs, bin_edges, closed=:right) # closed=:right means right-closed intervals\n",
    "\n",
    "    # Return the bin counts from the histogram\n",
    "    histogram.weights \n",
    "\n",
    "\n",
    "    # Assuming histogram is the result from the fit method\n",
    "    total_counts = sum(histogram.weights)\n",
    "    # Calculate a single individual bin width\n",
    "    bin_width = bin_edges[2] - bin_edges[1] # Assuming equal-width bins\n",
    "    # bin_widths = diff(bin_edges) # For variable-width bins\n",
    "    normalized_counts = histogram.weights / (total_counts * bin_width)\n",
    "    \n",
    "    # assert if the area adds to 1.0\n",
    "    @assert sum(normalized_counts .*bin_width) ≈ 1.0 # Check if the sum of normalized counts is 1.0\n",
    "    # println(\"Sum of normalized counts: \", sum(normalized_counts))\n",
    "    # println(\"bin width: \", bin_width)\n",
    "    # println(\"value\", sum(normalized_counts .* bin_width))\n",
    "\n",
    "    return histogram.weights, normalized_counts, bin_edges, bin_centers\n",
    "end\n",
    "\n",
    "raw_counts, normalized_counts, bin_edges, bin_centers = calculate_modification_fithistogram(PMS[1], \"6mA\")\n",
    "\n",
    "println(\"Raw counts: \", raw_counts)\n",
    "println(\"Normalized counts: \", normalized_counts)\n"
   ]
  },
  {
   "cell_type": "code",
   "execution_count": null,
   "id": "ddfbc026",
   "metadata": {},
   "outputs": [],
   "source": [
    "# Plotting the histogram\n",
    "plot(1:257, normalized_counts, xlabel=\"Bin Index\", ylabel=\"density\", lab=\"6mA\", color=:blue)"
   ]
  },
  {
   "cell_type": "code",
   "execution_count": null,
   "id": "cfcba418",
   "metadata": {},
   "outputs": [],
   "source": [
    "normalized_counts[1:3]"
   ]
  },
  {
   "cell_type": "code",
   "execution_count": null,
   "id": "24b05824",
   "metadata": {},
   "outputs": [],
   "source": [
    "# Calculate the cumulative distribution \n",
    "cumulative_distribution = cumsum(normalized_counts)\n",
    "\n",
    "# Find the bin where the cumulative distribution first exceeds 50%\n",
    "bin_index = findfirst(x -> x > 0.5, cumulative_distribution)\n",
    "\n",
    "println(\"Bin index for 50% CDF = \" ,bin_index, \" with value \", cumulative_distribution[bin_index])\n",
    "\n",
    "println(round( cumulative_distribution[bin_index]*100, digits=2) , \"% of the data is below \", (bin_index)/256 , \" probability of modification\" )\n",
    "# third bin (index=3) has  upper bound of 3/256 = 0.01171875 or 1.17% probability of modification\n",
    "\n",
    "println(\"Methylation probability at this index is \", normalized_counts[bin_index]) #calculate the value of the bin at the index "
   ]
  },
  {
   "cell_type": "code",
   "execution_count": null,
   "id": "2a6f6085",
   "metadata": {},
   "outputs": [],
   "source": [
    "# Plotting the histogram\n",
    "bar(bin_centers, normalized_counts, xlabel=\"Bin Index\", ylabel=\"Density\", lab=\"6mA\", color=:blue)"
   ]
  },
  {
   "cell_type": "code",
   "execution_count": null,
   "id": "36271a63",
   "metadata": {},
   "outputs": [],
   "source": [
    "# calculate the half quantile of the modification probabilities\n",
    "\n",
    "half_quantile = quantile(normalized_counts, 0.5)\n",
    "# 50% of the modification probabilities are below this value\n"
   ]
  },
  {
   "cell_type": "markdown",
   "id": "cc9a04b0",
   "metadata": {},
   "source": [
    "with Plots:"
   ]
  },
  {
   "cell_type": "code",
   "execution_count": null,
   "id": "c3a82cce",
   "metadata": {},
   "outputs": [],
   "source": [
    "# using Plots  \n",
    "\n",
    "# 257 bins for 256 modification probabilities\n",
    "function plot_modification_histogram(file, modification)\n",
    "    # Initialize an empty array to collect all modification probabilities\n",
    "    all_mod_probs = Float64[]\n",
    "\n",
    "    # Total number of reads is the number of columns in PM.readindex\n",
    "    total_reads = size(file.readindex, 2)\n",
    "\n",
    "    for read_index = 1:total_reads\n",
    "        # Get modification data for the current read\n",
    "        mod_data = get_mod_datadf(read_index, modification, file)\n",
    "\n",
    "        # Extract the second row (modification probabilities)\n",
    "        mod_probs = mod_data[2, :]\n",
    "\n",
    "        # Append the probabilities to the all_mod_probs array\n",
    "        append!(all_mod_probs, mod_probs)\n",
    "    end\n",
    "\n",
    "    # Plot the histogram of all modification probabilities\n",
    "    histogram(all_mod_probs, bins=257, xlabel=\"Modification Probability\", ylabel=\"Density\", \n",
    "    title=\"Histogram\", label=\"6mA\" , normalize=true)\n",
    "    # normalize=true normalizes to form a PDF \n",
    "end"
   ]
  },
  {
   "cell_type": "code",
   "execution_count": null,
   "id": "5200823a",
   "metadata": {},
   "outputs": [],
   "source": [
    "plot_modification_histogram(PMS[1], \"6mA\")"
   ]
  },
  {
   "cell_type": "code",
   "execution_count": null,
   "id": "0fdc32dd",
   "metadata": {},
   "outputs": [],
   "source": [
    "plot_modification_histogram(PMS[1], \"5mC\")"
   ]
  },
  {
   "cell_type": "markdown",
   "id": "5a70db7f",
   "metadata": {},
   "source": [
    "In the original version, we are dealing with modification probabilities that are integers in the range [0, 256]. We can directly use these integer values as indices to update the histogram. The countmap() function is used to count the frequency of each unique value in mod_probs, and then we update the histogram accordingly.\n",
    "\n",
    "However, when we calculate the mean methylation, the resulting values are not integers. They are floats between 0 and 1 (after dividing by 256). We cannot use these floating-point numbers directly as indices to update the histogram."
   ]
  },
  {
   "cell_type": "code",
   "execution_count": null,
   "id": "30bf6145",
   "metadata": {},
   "outputs": [],
   "source": [
    "mod_data1 = get_mod_datadf(3, \"6mA\", PMS[1])"
   ]
  },
  {
   "cell_type": "code",
   "execution_count": null,
   "id": "b9f54e07",
   "metadata": {},
   "outputs": [],
   "source": [
    "size(read_df ,1 )  == size(PMS[1].readindex,2)"
   ]
  },
  {
   "cell_type": "code",
   "execution_count": null,
   "id": "da8bd26c",
   "metadata": {},
   "outputs": [],
   "source": [
    "data = get_mod_datadf(22, \"6mA\", PMS[1])\n",
    "\n",
    "if !isempty(data)  # Correct way to check if data is not empty\n",
    "    data_mean = mean(data)\n",
    "    println(\"Mean of the data is: \", data_mean)\n",
    "else\n",
    "    data_mean = mean(data)\n",
    "    println(\"Data is empty.\")\n",
    "    println(\"Mean of the data is: \", data_mean)\n",
    "end"
   ]
  },
  {
   "cell_type": "code",
   "execution_count": null,
   "id": "a9e4bd24",
   "metadata": {},
   "outputs": [],
   "source": [
    "# Assuming mod_data[2, :] is the target slice\n",
    "mod_data_22= get_mod_datadf(22, \"6mA\", PMS[1])[2, :]\n",
    "\n",
    "# Check if any element in the slice is NaN\n",
    "contains_nan = any(isnan.(mod_data_22))\n",
    "\n",
    "println(\"Contains NaN: \", contains_nan)\n",
    "println(\"mean of the reading is \", mean(mod_data_22))\n"
   ]
  },
  {
   "cell_type": "code",
   "execution_count": null,
   "id": "6f077247",
   "metadata": {},
   "outputs": [],
   "source": [
    "get_mod_datadf(180, \"5mC\", PMS[1])[2, :]"
   ]
  },
  {
   "cell_type": "code",
   "execution_count": null,
   "id": "1111afd3",
   "metadata": {},
   "outputs": [],
   "source": [
    "using StatsBase\n",
    "\n",
    "function calculate_mean_methylation_histogram(file, modification)\n",
    "    # Initialize an empty array to collect mean methylation values\n",
    "    # mean_methylations = Float64[]\n",
    "    mean_methylations = zeros(Float64, size(PMS[1].readindex,2) ) # Allocate a vector of size number of reads\n",
    "\n",
    "    # Total number of reads is the number of columns in PM.readindex\n",
    "    total_reads = size(file.readindex, 2)\n",
    "\n",
    "    for read_index = 1:total_reads\n",
    "        # Get modification data for the current read\n",
    "        mod_data = get_mod_datadf(read_index, modification, file)\n",
    "\n",
    "        # Calculate mean methylation (average of modification probabilities)\n",
    "        mean_methylation = mean( mod_data[2, :] ./256 ) \n",
    "        # push!(mean_methylations, mean_methylation)\n",
    "        mean_methylations[read_index] = mean_methylation # ttore the mean\n",
    "    end\n",
    "\n",
    "    # Determine the range for the histogram bins\n",
    "    bin_edges = range(0.0, stop=1.0, length=257) # 256 bins for [0, 1]\n",
    "\n",
    "    # Create a histogram\n",
    "    hist = fit(Histogram, mean_methylations, bin_edges, closed=:left)\n",
    "   \n",
    "\n",
    "    return hist\n",
    "end\n"
   ]
  },
  {
   "cell_type": "code",
   "execution_count": null,
   "id": "6b2df641",
   "metadata": {},
   "outputs": [],
   "source": [
    "Pkg.add(\"OnlineStats\")"
   ]
  },
  {
   "cell_type": "code",
   "execution_count": null,
   "id": "3ce3512e",
   "metadata": {},
   "outputs": [],
   "source": [
    "# For comparison with the previous implementation\n",
    "using OnlineStats\n",
    "\n",
    "function calculate_mean_methylation_histogram2(file, modification)\n",
    "    # Initialize an empty array to collect mean methylation values\n",
    "    mean_methylations = zeros(Float64, size(file.readindex, 2)) # Allocate a vector of size number of reads\n",
    "\n",
    "    # Total number of reads is the number of columns in file.readindex\n",
    "    total_reads = size(file.readindex, 2)\n",
    "\n",
    "    for read_index = 1:total_reads\n",
    "        # Get modification data for the current read\n",
    "        mod_data = get_mod_datadf(read_index, modification, file)\n",
    "\n",
    "        # Calculate mean methylation (average of modification probabilities)\n",
    "        mean_methylation = mean(mod_data[2, :] ./ 256)\n",
    "        mean_methylations[read_index] = mean_methylation # Store the mean\n",
    "    end\n",
    "\n",
    "    # Create a histogram using OnlineStats\n",
    "    # specify the range (0.0 to 1.0) and the number of bins (256)\n",
    "    histogram = Hist(0.0: 1/256: 1.0) # Hist object from OnlineStats\n",
    "\n",
    "    # Fit the histogram with the mean_methylations data\n",
    "    fit!(histogram, mean_methylations) #fit!  from OnlineStats\n",
    "    # After calculating mean_methylations\n",
    "    println(\"Min mean methylation: \", minimum(mean_methylations))\n",
    "    println(\"Max mean methylation: \", maximum(mean_methylations))\n",
    "\n",
    "# Continue to create and fit the histogram\n",
    "\n",
    "    return histogram\n",
    "end\n",
    "\n",
    "\n",
    "hist_data6ma = calculate_mean_methylation_histogram2(PMS[1], \"6mA\")\n",
    "# plot the histogram\n",
    "# histogram(hist_data6ma,  xlabel=\"Mean Methylation\", ylabel=\"Frequency\", title=\"Histogram of Mean Methylation\")\n",
    "plot(hist_data6ma,  label = \"6mA\", color = :blue) \n"
   ]
  },
  {
   "cell_type": "code",
   "execution_count": null,
   "id": "a83dae65",
   "metadata": {},
   "outputs": [],
   "source": [
    "# Find empty data for a modification 6ma or 5mC -\n",
    "\n",
    "extracted_data = []\n",
    "empty_data_indices = []  # List to keep track of indices with empty data\n",
    "\n",
    "# Assuming PMS[1] is defined elsewhere in your code\n",
    "# Loop through a range of j values. Adjust the range as necessary.\n",
    "for j in 1:size(PMS[1].readindex, 2)\n",
    "    try\n",
    "        # Attempt to extract data for the current value of j\n",
    "        data = get_mod_datadf(j, \"6mA\", PMS[1])[2,:]\n",
    "        \n",
    "        # Check if the data is an empty matrix\n",
    "        if size(data, 1) == 0 || size(data, 2) == 0  # \"OR\" \n",
    "            println(\"Found empty data at j = $j\")\n",
    "            push!(empty_data_indices, j)  # Add the index to the list\n",
    "            continue  # Skip to the next iteration\n",
    "        end\n",
    "        \n",
    "        # If data extraction is successful and not empty, append the data to the extracted_data list\n",
    "        push!(extracted_data, data)\n",
    "    catch e\n",
    "        # If an error occurs, print the error and continue to the next iteration\n",
    "        println(\"Stopped at j = $j due to error: $e\")\n",
    "        continue\n",
    "    end\n",
    "end\n",
    "\n",
    "\n",
    "# # If there are any indices with empty data, print them\n",
    "# if !isempty(empty_data_indices)\n",
    "#     println(\"Indices with empty data: \", join(empty_data_indices, \", \"))\n",
    "# else\n",
    "#     println(\"Data extraction completed without encountering missing or empty values.\")\n",
    "# end"
   ]
  },
  {
   "cell_type": "code",
   "execution_count": null,
   "id": "bc8f8b50",
   "metadata": {},
   "outputs": [],
   "source": [
    "# For read_index = 155\n",
    "println(get_mod_datadf(155, \"6mA\", PMS[1])[2,:])\n",
    "println(get_mod_datadf(155, \"5mC\", PMS[1])[2,:])  "
   ]
  },
  {
   "cell_type": "code",
   "execution_count": null,
   "id": "d96acbe2",
   "metadata": {},
   "outputs": [],
   "source": [
    "# index 22 - another example of empty data for 6mA\n",
    "get_mod_datadf(22, \"6mA\", PMS[1])"
   ]
  },
  {
   "cell_type": "code",
   "execution_count": null,
   "id": "d28faf5c",
   "metadata": {},
   "outputs": [],
   "source": [
    "get_mod_datadf(1, \"6mA\", PMS[1])\n",
    "get_mod_datadf(1, \"5mC\", PMS[1])"
   ]
  },
  {
   "cell_type": "code",
   "execution_count": null,
   "id": "e5c70877",
   "metadata": {},
   "outputs": [],
   "source": [
    "# Mean methylation histogram for 6mA and 5mC modifications\n",
    "\n",
    "hist_data6ma = calculate_mean_methylation_histogram(PMS[1], \"6mA\")\n",
    "hist_data5mc = calculate_mean_methylation_histogram(PMS[1], \"5mC\")"
   ]
  },
  {
   "cell_type": "code",
   "execution_count": null,
   "id": "d13c196c",
   "metadata": {},
   "outputs": [],
   "source": [
    "# typeof(hist_data6ma.edges[1])"
   ]
  },
  {
   "cell_type": "code",
   "execution_count": null,
   "id": "6d983a52",
   "metadata": {},
   "outputs": [],
   "source": [
    "bin_counts = hist_data6ma.weights #\n",
    "bin_edges = hist_data6ma.edges[1] # edges of the bins for 1st dimension (one-dimensional histogram)\n",
    "bin_centers = (bin_edges[1:end-1] .+ bin_edges[2:end]) ./ 2\n",
    "\n",
    "# Calculate the width assuming equal-width bins\n",
    "bar_width = bin_edges[2] - bin_edges[1]\n",
    "\n",
    "\n",
    "bar(0:256, bin_counts, width=bar_width, xlabel=\"Bins\", ylabel=\"Frequency\", title=\"Mean Methylation\", label=\"6mA\", color=:blue)\n",
    "# bar(bin_centers, bin_counts, width=(bin_edges[2]-bin_edges[1]), xlabel=\"Modification Probability\", ylabel=\"Density\", title=\"Modification Probability Histogram\", label=\"6mA\")\n"
   ]
  },
  {
   "cell_type": "code",
   "execution_count": null,
   "id": "d42ed6d2",
   "metadata": {},
   "outputs": [],
   "source": [
    "bin_counts = hist_data5mc.weights #\n",
    "bin_edges = hist_data5mc.edges[1] # edges of the bins for 1st dimension (one-dimensional histogram)\n",
    "bin_centers = (bin_edges[1:end-1] .+ bin_edges[2:end]) ./ 2\n",
    "\n",
    "# Calculate the width assuming equal-width bins\n",
    "bar_width = bin_edges[2] - bin_edges[1]\n",
    "\n",
    "\n",
    "# bar(0:256, bin_counts, width=bar_width, xlabel=\"Bin\", ylabel=\"Density\", title=\"Modification Probability Histogram\", label=\"6mA\", color=:blue)\n",
    "bar(bin_centers, bin_counts, width=bar_width, xlabel=\"Bins\", ylabel=\"Density\", title=\"Mean Methylation\", label=\"5mC\", color=:blue)\n"
   ]
  },
  {
   "cell_type": "markdown",
   "id": "28718282",
   "metadata": {},
   "source": []
  },
  {
   "cell_type": "code",
   "execution_count": null,
   "id": "55216938",
   "metadata": {},
   "outputs": [],
   "source": []
  },
  {
   "cell_type": "code",
   "execution_count": null,
   "id": "f577f868",
   "metadata": {},
   "outputs": [],
   "source": []
  },
  {
   "cell_type": "code",
   "execution_count": null,
   "id": "3b07299d",
   "metadata": {},
   "outputs": [],
   "source": []
  },
  {
   "cell_type": "markdown",
   "id": "021007f4",
   "metadata": {},
   "source": [
    "### Distribution of distance between methylated bases\n",
    "\n"
   ]
  },
  {
   "cell_type": "code",
   "execution_count": null,
   "id": "9bc5e4f4",
   "metadata": {},
   "outputs": [],
   "source": [
    "# Function to calculate the distribution of the distance between bases methylated with probability > t\n",
    "\n",
    "\n",
    "\n",
    "function calc_dist_methylated_bases(read_df, modification_name, file, t)\n",
    "    dists = []\n",
    "    for read_index in 1:size(read_df, 1)\n",
    "        mod_data = get_mod_datadf(read_index, modification_name, file)\n",
    "        methylated_positions = mod_data[1, mod_data[2, :] .> t]\n",
    "        push!(dists, diff(methylated_positions))\n",
    "    end\n",
    "    return dists\n",
    "end"
   ]
  },
  {
   "cell_type": "code",
   "execution_count": null,
   "id": "d3fd5f4b",
   "metadata": {},
   "outputs": [],
   "source": []
  },
  {
   "cell_type": "code",
   "execution_count": null,
   "id": "f626637b",
   "metadata": {},
   "outputs": [],
   "source": []
  },
  {
   "cell_type": "markdown",
   "id": "ed6938e1",
   "metadata": {},
   "source": [
    "### Load peakmotif file "
   ]
  },
  {
   "cell_type": "code",
   "execution_count": null,
   "id": "2e4d9b33-e24c-410f-82bb-5c54370c3ff3",
   "metadata": {
    "tags": []
   },
   "outputs": [],
   "source": [
    "peakmotif = load_tf_data(\"/Users/alexandrehefrenh2//University of Exeter/Gene Regulatory Defects in Disease - Documents/data/islets/peakmotif/\")"
   ]
  },
  {
   "cell_type": "code",
   "execution_count": null,
   "id": "6c7b6673-cce3-4029-8242-0fa0f74e991a",
   "metadata": {
    "tags": []
   },
   "outputs": [],
   "source": [
    "peakmotif[\"CTCF\"]"
   ]
  },
  {
   "cell_type": "code",
   "execution_count": null,
   "id": "a59847d3-38ad-46a0-9a07-33744bdd6dff",
   "metadata": {
    "tags": []
   },
   "outputs": [],
   "source": [
    "dw = 1000\n",
    "xp = -dw:dw\n",
    "cls = @with peakmotif[\"CTCF\"] (:chrom, [div(s + e, 2) .+ (-dw:dw) for (s, e) in zip(:motifstart, :motifstop)], :strand)\n",
    "ctcf_ivs = IntervalCollection(Interval.(cls[1], cls[2], first.(cls[3]), 1:length(cls[1])));"
   ]
  },
  {
   "cell_type": "code",
   "execution_count": null,
   "id": "d080d239-444d-4621-8e92-b7299bac3e51",
   "metadata": {
    "tags": []
   },
   "outputs": [],
   "source": [
    "ctcf_ivs"
   ]
  },
  {
   "cell_type": "code",
   "execution_count": null,
   "id": "8b2b6ad0-3568-4e28-8cfc-8a5c1084819e",
   "metadata": {
    "tags": []
   },
   "outputs": [],
   "source": [
    "mean_6ma = modmeta(ctcf_ivs, PMS[1], \"6mA\");\n",
    "mean_5mC = modmeta(ctcf_ivs, PMS[1], \"5mC\");"
   ]
  },
  {
   "cell_type": "code",
   "execution_count": null,
   "id": "1655047a-5d28-4091-a707-503c7e2cab64",
   "metadata": {
    "tags": []
   },
   "outputs": [],
   "source": [
    "zscore(x)  = (x .- mean(x))./std(x)"
   ]
  },
  {
   "cell_type": "code",
   "execution_count": null,
   "id": "f79247f1-0bb3-4f77-bd96-43db9f303b87",
   "metadata": {
    "tags": []
   },
   "outputs": [],
   "source": [
    "plot()\n",
    "plot!(xp, mean_6ma[1], lab=\"6mA\")\n",
    "plot!(xp, mean_5mC[1], lab=\"5mC\")"
   ]
  },
  {
   "cell_type": "code",
   "execution_count": null,
   "id": "a32131ac-c83a-4002-9890-13dd285a236b",
   "metadata": {
    "tags": []
   },
   "outputs": [],
   "source": [
    "plot()\n",
    "plot!(xp, zscore(mean_6ma[1]), lab=\"6mA\")\n",
    "plot!(xp, zscore(mean_5mC[1]), lab=\"5mC\")"
   ]
  },
  {
   "cell_type": "code",
   "execution_count": null,
   "id": "7f73b4c4-ccd7-41fb-9c13-759af24442df",
   "metadata": {
    "tags": []
   },
   "outputs": [],
   "source": [
    "qc_6mA = SMFTools.modmetaqc(ctcf_ivs, PMS[1], \"6mA\")\n",
    "qc_5mC = SMFTools.modmetaqc(ctcf_ivs, PMS[1], \"5mC\")"
   ]
  },
  {
   "cell_type": "code",
   "execution_count": null,
   "id": "a6abfd24-6480-42d7-a546-69a47ea7a9b5",
   "metadata": {
    "tags": []
   },
   "outputs": [],
   "source": [
    "heatmap(-dw:dw, range(0, 1, length=256), qc_6mA[1]', clims=(0, 500), ylabel=\"Basecaller methylation probability\", xlabel=\"CTCF\", title=\"Frequency of modified base calls\")"
   ]
  },
  {
   "cell_type": "code",
   "execution_count": null,
   "id": "91fcfc1f-9600-4125-8797-21048ef52787",
   "metadata": {
    "tags": []
   },
   "outputs": [],
   "source": [
    "heatmap(-dw:dw, range(0, 1, length=256), qc_5mC[1]', clims=(0, 100), ylabel=\"Basecaller methylation probability\", xlabel=\"CTCF\")"
   ]
  },
  {
   "cell_type": "code",
   "execution_count": null,
   "id": "b6d2b297-3949-4973-917c-f84d850455b2",
   "metadata": {
    "tags": []
   },
   "outputs": [],
   "source": [
    "mods_6mA = modheat(ctcf_ivs, PMS[1], \"6mA\")"
   ]
  },
  {
   "cell_type": "markdown",
   "id": "4b7cc75a",
   "metadata": {},
   "source": [
    "## Third part"
   ]
  },
  {
   "cell_type": "markdown",
   "id": "e9a25177",
   "metadata": {},
   "source": [
    "Export data "
   ]
  },
  {
   "cell_type": "code",
   "execution_count": null,
   "id": "511f0c49",
   "metadata": {},
   "outputs": [],
   "source": [
    "Pkg.add(\"HDF5\")"
   ]
  },
  {
   "cell_type": "code",
   "execution_count": null,
   "id": "26822304",
   "metadata": {},
   "outputs": [],
   "source": [
    "using HDF5, DataFrames\n",
    "\n",
    "# Extract the data as arrays (assuming your DataFrame has columns Position and Modification_Probability)\n",
    "positions = firstreading_df.Position\n",
    "probabilities = firstreading_df.Modification_Probability\n",
    "\n",
    "# Open an HDF5 file for writing\n",
    "h5open(\"data.h5\", \"w\") do file\n",
    "    # Create datasets for positions and probabilities\n",
    "    write(file, \"positions\", positions)\n",
    "    write(file, \"probabilities\", probabilities)\n",
    "end"
   ]
  },
  {
   "cell_type": "code",
   "execution_count": null,
   "id": "cb82186c",
   "metadata": {},
   "outputs": [],
   "source": []
  },
  {
   "cell_type": "code",
   "execution_count": null,
   "id": "9aeef22d",
   "metadata": {},
   "outputs": [],
   "source": []
  }
 ],
 "metadata": {
  "kernelspec": {
   "display_name": "Julia 1.10.4",
   "language": "julia",
   "name": "julia-1.10"
  },
  "language_info": {
   "file_extension": ".jl",
   "mimetype": "application/julia",
   "name": "julia",
   "version": "1.10.4"
  }
 },
 "nbformat": 4,
 "nbformat_minor": 5
}
